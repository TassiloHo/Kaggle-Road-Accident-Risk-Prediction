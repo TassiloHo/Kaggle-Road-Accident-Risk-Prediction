{
 "cells": [
  {
   "cell_type": "code",
   "execution_count": null,
   "metadata": {},
   "outputs": [],
   "source": [
    "!kaggle competitions download -c playground-series-s5e10 \n",
    "!unzip -o playground-series-s5e10.zip -d ./playground-series-s5e10/\n",
    "!rm playground-series-s5e10.zip"
   ]
  },
  {
   "cell_type": "code",
   "execution_count": null,
   "metadata": {
    "_cell_guid": "b1076dfc-b9ad-4769-8c92-a6c4dae69d19",
    "_uuid": "8f2839f25d086af736a60e9eeb907d3b93b6e0e5",
    "execution": {
     "iopub.execute_input": "2025-10-29T23:31:26.504716Z",
     "iopub.status.busy": "2025-10-29T23:31:26.504434Z",
     "iopub.status.idle": "2025-10-29T23:31:26.509272Z",
     "shell.execute_reply": "2025-10-29T23:31:26.508598Z",
     "shell.execute_reply.started": "2025-10-29T23:31:26.504676Z"
    },
    "trusted": true
   },
   "outputs": [],
   "source": [
    "import pandas as pd\n",
    "from sklearn.model_selection import RepeatedKFold\n",
    "import optuna\n",
    "import numpy as np\n",
    "import xgboost as xgb   \n",
    "from app import downcasting"
   ]
  },
  {
   "cell_type": "code",
   "execution_count": null,
   "metadata": {
    "execution": {
     "iopub.execute_input": "2025-10-29T23:31:26.745907Z",
     "iopub.status.busy": "2025-10-29T23:31:26.745320Z",
     "iopub.status.idle": "2025-10-29T23:31:27.501477Z",
     "shell.execute_reply": "2025-10-29T23:31:27.500890Z",
     "shell.execute_reply.started": "2025-10-29T23:31:26.745884Z"
    },
    "trusted": true
   },
   "outputs": [],
   "source": [
    "train = pd.read_csv('./playground-series-s5e10/train.csv', index_col=\"id\")\n",
    "test = pd.read_csv('./playground-series-s5e10/test.csv', index_col=\"id\")\n",
    "submission = pd.read_csv('./playground-series-s5e10/sample_submission.csv')"
   ]
  },
  {
   "cell_type": "code",
   "execution_count": null,
   "metadata": {
    "execution": {
     "iopub.execute_input": "2025-10-29T23:31:27.502816Z",
     "iopub.status.busy": "2025-10-29T23:31:27.502516Z",
     "iopub.status.idle": "2025-10-29T23:31:27.643013Z",
     "shell.execute_reply": "2025-10-29T23:31:27.642387Z",
     "shell.execute_reply.started": "2025-10-29T23:31:27.502799Z"
    },
    "trusted": true
   },
   "outputs": [],
   "source": [
    "categorical_columns = [\"road_type\", \"lighting\", \"weather\", \"time_of_day\"]\n",
    "for cc in categorical_columns:\n",
    "    train[cc] = train[cc].astype(\"category\")\n",
    "    test[cc] = test[cc].astype(\"category\")"
   ]
  },
  {
   "cell_type": "code",
   "execution_count": null,
   "metadata": {
    "execution": {
     "iopub.execute_input": "2025-10-29T23:00:39.471738Z",
     "iopub.status.busy": "2025-10-29T23:00:39.471319Z",
     "iopub.status.idle": "2025-10-29T23:00:39.562479Z",
     "shell.execute_reply": "2025-10-29T23:00:39.561654Z",
     "shell.execute_reply.started": "2025-10-29T23:00:39.471689Z"
    },
    "trusted": true
   },
   "outputs": [],
   "source": [
    "train = downcasting(train)\n",
    "test = downcasting(test)"
   ]
  },
  {
   "cell_type": "code",
   "execution_count": null,
   "metadata": {
    "execution": {
     "iopub.execute_input": "2025-10-29T23:53:30.088211Z",
     "iopub.status.busy": "2025-10-29T23:53:30.087938Z",
     "iopub.status.idle": "2025-10-29T23:53:30.092457Z",
     "shell.execute_reply": "2025-10-29T23:53:30.091736Z",
     "shell.execute_reply.started": "2025-10-29T23:53:30.088192Z"
    },
    "trusted": true
   },
   "outputs": [],
   "source": [
    "base_params = {\n",
    "    'tree_method': 'hist', \n",
    "    'device': 'cuda', \n",
    "    'eval_metric': 'rmse', \n",
    "    'enable_categorical': True, \n",
    "    'n_estimators': 1000,\n",
    "    'random_state': 42,\n",
    "    'learning_rate': 0.1,\n",
    "    'early_stopping_rounds': 20\n",
    "}"
   ]
  },
  {
   "cell_type": "code",
   "execution_count": null,
   "metadata": {
    "execution": {
     "iopub.execute_input": "2025-10-29T23:53:31.783704Z",
     "iopub.status.busy": "2025-10-29T23:53:31.783183Z",
     "iopub.status.idle": "2025-10-29T23:53:31.789177Z",
     "shell.execute_reply": "2025-10-29T23:53:31.788399Z",
     "shell.execute_reply.started": "2025-10-29T23:53:31.783667Z"
    },
    "trusted": true
   },
   "outputs": [],
   "source": [
    "def objective(trial):\n",
    "    xgb_params = dict(base_params)\n",
    "    xgb_params.update({\n",
    "        \"max_depth\": trial.suggest_int(\"max_depth\", 6, 12), \n",
    "        'reg_lambda': trial.suggest_float(\"reg_lambda\", 0, 20)\n",
    "    })\n",
    "    rkf = RepeatedKFold(n_splits=5, n_repeats=2, random_state=42)\n",
    "    avg_score = 0\n",
    "    avg_iter = 0\n",
    "    for i, (train_index, test_index) in enumerate(rkf.split(train)):\n",
    "        X_train, y_train = train.loc[train_index].drop(\"accident_risk\", axis=1), train.loc[train_index, \"accident_risk\"]\n",
    "        X_test, y_test = train.loc[test_index].drop(\"accident_risk\", axis=1), train.loc[test_index, \"accident_risk\"]\n",
    "        reg = xgb.XGBRegressor(**xgb_params)\n",
    "        fit = reg.fit(X_train, y_train, eval_set=[(X_test, y_test)], verbose=False)\n",
    "        avg_score += fit.best_score\n",
    "        avg_iter += fit.best_iteration\n",
    "    \n",
    "    avg_iter /= rkf.get_n_splits()\n",
    "    avg_score /= rkf.get_n_splits()\n",
    "    return avg_score"
   ]
  },
  {
   "cell_type": "code",
   "execution_count": null,
   "metadata": {},
   "outputs": [],
   "source": [
    "study = optuna.create_study(direction='minimize')\n",
    "study.optimize(objective, n_trials=10, n_jobs=4)"
   ]
  },
  {
   "cell_type": "code",
   "execution_count": null,
   "metadata": {
    "execution": {
     "iopub.execute_input": "2025-10-30T00:00:27.560371Z",
     "iopub.status.busy": "2025-10-30T00:00:27.559884Z",
     "iopub.status.idle": "2025-10-30T00:00:27.564489Z",
     "shell.execute_reply": "2025-10-30T00:00:27.563672Z",
     "shell.execute_reply.started": "2025-10-30T00:00:27.560348Z"
    },
    "trusted": true
   },
   "outputs": [],
   "source": [
    "best_params = dict(base_params)\n",
    "best_params.update(study.best_params)"
   ]
  },
  {
   "cell_type": "code",
   "execution_count": null,
   "metadata": {
    "execution": {
     "iopub.execute_input": "2025-10-30T00:00:31.181027Z",
     "iopub.status.busy": "2025-10-30T00:00:31.180587Z",
     "iopub.status.idle": "2025-10-30T00:01:05.317026Z",
     "shell.execute_reply": "2025-10-30T00:01:05.316427Z",
     "shell.execute_reply.started": "2025-10-30T00:00:31.181000Z"
    },
    "trusted": true
   },
   "outputs": [],
   "source": [
    "rkf = RepeatedKFold(n_splits=10, n_repeats=2, random_state=42)\n",
    "avg_score = 0\n",
    "test_predictions = []\n",
    "best_iteration = 0\n",
    "for i, (train_index, test_index) in enumerate(rkf.split(train)):\n",
    "    X_train, y_train = train.loc[train_index].drop(\"accident_risk\", axis=1), train.loc[train_index, \"accident_risk\"]\n",
    "    X_test, y_test = train.loc[test_index].drop(\"accident_risk\", axis=1), train.loc[test_index, \"accident_risk\"]\n",
    "    reg = xgb.XGBRegressor(**best_params)\n",
    "    reg.fit(X_train, y_train, eval_set=[(X_test, y_test)], verbose=False)\n",
    "    avg_score += reg.best_score\n",
    "    best_iteration += reg.best_iteration\n",
    "    test_predictions.append(reg.predict(test))\n",
    "avg_score /= rkf.get_n_splits()\n",
    "best_iteration /= rkf.get_n_splits()"
   ]
  },
  {
   "cell_type": "code",
   "execution_count": null,
   "metadata": {},
   "outputs": [],
   "source": [
    "avg_score"
   ]
  },
  {
   "cell_type": "code",
   "execution_count": null,
   "metadata": {
    "execution": {
     "iopub.execute_input": "2025-10-30T00:01:05.318416Z",
     "iopub.status.busy": "2025-10-30T00:01:05.318173Z",
     "iopub.status.idle": "2025-10-30T00:01:05.326049Z",
     "shell.execute_reply": "2025-10-30T00:01:05.325403Z",
     "shell.execute_reply.started": "2025-10-30T00:01:05.318399Z"
    },
    "trusted": true
   },
   "outputs": [],
   "source": [
    "test_predictions = np.stack(test_predictions).mean(0)"
   ]
  },
  {
   "cell_type": "code",
   "execution_count": null,
   "metadata": {
    "execution": {
     "iopub.execute_input": "2025-10-29T23:47:57.281398Z",
     "iopub.status.busy": "2025-10-29T23:47:57.280845Z",
     "iopub.status.idle": "2025-10-29T23:47:57.284885Z",
     "shell.execute_reply": "2025-10-29T23:47:57.284248Z",
     "shell.execute_reply.started": "2025-10-29T23:47:57.281376Z"
    },
    "trusted": true
   },
   "outputs": [],
   "source": [
    "full_ds_iterations = int(10/9*best_iteration)"
   ]
  },
  {
   "cell_type": "code",
   "execution_count": null,
   "metadata": {
    "execution": {
     "iopub.execute_input": "2025-10-29T23:51:56.125751Z",
     "iopub.status.busy": "2025-10-29T23:51:56.125466Z",
     "iopub.status.idle": "2025-10-29T23:52:04.591934Z",
     "shell.execute_reply": "2025-10-29T23:52:04.591354Z",
     "shell.execute_reply.started": "2025-10-29T23:51:56.125733Z"
    },
    "trusted": true
   },
   "outputs": [],
   "source": [
    "full_fit_params = dict(best_params)\n",
    "full_fit_params[\"early_stopping_rounds\"] = None\n",
    "full_fit_params[\"n_estimators\"] = full_ds_iterations\n",
    "reg = xgb.XGBRegressor(**full_fit_params)\n",
    "reg.fit(train.drop(\"accident_risk\", axis=1), train[\"accident_risk\"])\n",
    "reg.save_model(\"accident_risk_model.json\")"
   ]
  },
  {
   "cell_type": "code",
   "execution_count": null,
   "metadata": {},
   "outputs": [],
   "source": [
    "submission[\"accident_risk\"] = reg.predict(test)"
   ]
  },
  {
   "cell_type": "code",
   "execution_count": null,
   "metadata": {},
   "outputs": [],
   "source": [
    "submission.to_csv(\"submission.csv\", index=False)"
   ]
  },
  {
   "cell_type": "code",
   "execution_count": null,
   "metadata": {},
   "outputs": [],
   "source": [
    "!kaggle competitions submit -c playground-series-s5e10 -f submission.csv -m \"XGBoost RepeatedKFold with Optuna Hyperparameter Tuning final model trained on full dataset via api\""
   ]
  }
 ],
 "metadata": {
  "kaggle": {
   "accelerator": "gpu",
   "dataSources": [
    {
     "databundleVersionId": 13760552,
     "sourceId": 91721,
     "sourceType": "competition"
    }
   ],
   "dockerImageVersionId": 31154,
   "isGpuEnabled": true,
   "isInternetEnabled": true,
   "language": "python",
   "sourceType": "notebook"
  },
  "kernelspec": {
   "display_name": "kaggle-road-accident-risk-prediction",
   "language": "python",
   "name": "python3"
  },
  "language_info": {
   "codemirror_mode": {
    "name": "ipython",
    "version": 3
   },
   "file_extension": ".py",
   "mimetype": "text/x-python",
   "name": "python",
   "nbconvert_exporter": "python",
   "pygments_lexer": "ipython3",
   "version": "3.11.13"
  }
 },
 "nbformat": 4,
 "nbformat_minor": 4
}
